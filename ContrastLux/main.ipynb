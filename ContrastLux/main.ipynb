{
 "cells": [
  {
   "metadata": {
    "ExecuteTime": {
     "end_time": "2025-09-05T19:05:50.885299Z",
     "start_time": "2025-09-05T19:05:50.881265Z"
    }
   },
   "cell_type": "code",
   "source": [
    "import numpy as np\n",
    "import cv2\n",
    "from tqdm import tqdm\n",
    "from tkinter import Tk, filedialog"
   ],
   "id": "d10fa962a1051f4f",
   "outputs": [],
   "execution_count": 4
  },
  {
   "metadata": {
    "ExecuteTime": {
     "end_time": "2025-09-05T19:06:15.482308Z",
     "start_time": "2025-09-05T19:05:52.099977Z"
    }
   },
   "cell_type": "code",
   "source": [
    "ESCAPE_KEY_ASCII = 27\n",
    "\n",
    "def onChange(value):\n",
    "    pass\n",
    "\n",
    "def process_image(img_bgr, contrast_value, brightness_value, use_clahe):\n",
    "    \"\"\"\n",
    "    Aplica contraste centrado em 128, brilho e (opcional) CLAHE apenas no canal L.\n",
    "    \"\"\"\n",
    "    img_float = img_bgr.astype(np.float32)\n",
    "\n",
    "    # Contraste centrado em 128 e brilho (domínio):\n",
    "    contraste = contrast_value / 100.0\n",
    "    ajustada = contraste * (img_float - 128) + 128 + brightness_value\n",
    "    ajustada = np.clip(ajustada, 0, 255).astype(np.uint8)\n",
    "\n",
    "    if not use_clahe:\n",
    "        return ajustada\n",
    "\n",
    "    # CLAHE no canal de luminosidade (LAB)\n",
    "    lab = cv2.cvtColor(ajustada, cv2.COLOR_BGR2LAB)\n",
    "    l, a, b = cv2.split(lab)\n",
    "    clahe = cv2.createCLAHE(clipLimit=2.0, tileGridSize=(8, 8))\n",
    "    l_clahe = clahe.apply(l)\n",
    "    lab_clahe = cv2.merge((l_clahe, a, b))\n",
    "    return cv2.cvtColor(lab_clahe, cv2.COLOR_LAB2BGR)\n",
    "\n",
    "# === Selecionar a Imagem ===\n",
    "Tk().withdraw()\n",
    "file_path = filedialog.askopenfilename(\n",
    "    title=\"Selecione uma imagem\",\n",
    "    filetypes=[(\"Imagens\", \"*.jpg;*.jpeg;*.png;*.bmp;*.tiff\")]\n",
    ")\n",
    "\n",
    "if not file_path:\n",
    "    print(\"Nenhuma imagem selecionada. Encerrando...\")\n",
    "    exit()\n",
    "\n",
    "img = cv2.imread(file_path)\n",
    "if img is None:\n",
    "    print(\"Erro ao carregar a imagem. Encerrando...\")\n",
    "    exit()\n",
    "\n",
    "copyimg = img.copy()\n",
    "\n",
    "# === Criar janela principal ===\n",
    "windowTitle = \"Ajuste de Brilho e Contraste (Antes e Depois)\"\n",
    "cv2.namedWindow(windowTitle, cv2.WINDOW_NORMAL)\n",
    "\n",
    "# Redimensiona a janela para caber imagem original + ajustada lado a lado + trackbars\n",
    "h, w = img.shape[:2]\n",
    "cv2.resizeWindow(windowTitle, w * 2, h + 80)\n",
    "\n",
    "# Trackbars\n",
    "cv2.createTrackbar(\"Contraste\", windowTitle, 100, 200, onChange)  # 100 = 1.0x\n",
    "cv2.createTrackbar(\"Brilho\", windowTitle, 0, 200, onChange)       # brilho em [0..200]\n",
    "\n",
    "# Estados\n",
    "prev_contrast = cv2.getTrackbarPos(\"Contraste\", windowTitle)\n",
    "prev_brightness = cv2.getTrackbarPos(\"Brilho\", windowTitle)\n",
    "apply_clahe = True\n",
    "force_update = True  # força o primeiro processamento\n",
    "\n",
    "font = cv2.FONT_HERSHEY_SIMPLEX\n",
    "font_scale = 1.2\n",
    "thickness = 2\n",
    "color = (255, 255, 255)\n",
    "shadow_color = (0, 0, 0)\n",
    "y_pos = 40\n",
    "\n",
    "while True:\n",
    "    # Lê os sliders\n",
    "    current_contrast = cv2.getTrackbarPos(\"Contraste\", windowTitle)\n",
    "    current_brightness = cv2.getTrackbarPos(\"Brilho\", windowTitle)\n",
    "\n",
    "    changed = (current_contrast != prev_contrast) or (current_brightness != prev_brightness)\n",
    "\n",
    "    if changed or force_update:\n",
    "        # Reprocessa imagem quando há mudança ou toggle/reset\n",
    "        for _ in tqdm(range(1), desc=\"Aplicando ajustes\", unit=\"passo\"):\n",
    "            copyimg = process_image(img, current_contrast, current_brightness, apply_clahe)\n",
    "\n",
    "        prev_contrast = current_contrast\n",
    "        prev_brightness = current_brightness\n",
    "        force_update = False\n",
    "\n",
    "    # Combina antes/depois\n",
    "    combined = np.hstack((img, copyimg))\n",
    "\n",
    "    # Rótulos ANTES/DEPOIS\n",
    "    cv2.putText(combined, \"ANTES\", (30, y_pos), font, font_scale, shadow_color, thickness + 2, cv2.LINE_AA)\n",
    "    cv2.putText(combined, \"ANTES\", (30, y_pos), font, font_scale, color, thickness, cv2.LINE_AA)\n",
    "    cv2.putText(combined, \"DEPOIS\", (w + 30, y_pos), font, font_scale, shadow_color, thickness + 2, cv2.LINE_AA)\n",
    "    cv2.putText(combined, \"DEPOIS\", (w + 30, y_pos), font, font_scale, color, thickness, cv2.LINE_AA)\n",
    "\n",
    "    # Indicador CLAHE no canto inferior direito\n",
    "    clahe_status = \"CLAHE: ON\" if apply_clahe else \"CLAHE: OFF\"\n",
    "    text_size, _ = cv2.getTextSize(clahe_status, font, font_scale, thickness)\n",
    "    text_x = combined.shape[1] - text_size[0] - 20\n",
    "    text_y = combined.shape[0] - 20\n",
    "    cv2.putText(combined, clahe_status, (text_x, text_y), font, font_scale, shadow_color, thickness + 2, cv2.LINE_AA)\n",
    "    cv2.putText(combined, clahe_status, (text_x, text_y), font, font_scale, color, thickness, cv2.LINE_AA)\n",
    "\n",
    "    cv2.imshow(windowTitle, combined)\n",
    "\n",
    "    key = cv2.waitKey(1) & 0xFF\n",
    "    if key == ESCAPE_KEY_ASCII:\n",
    "        break\n",
    "    elif key == ord('c'):  # Alterna CLAHE e força reprocessar\n",
    "        apply_clahe = not apply_clahe\n",
    "        force_update = True\n",
    "        print(f\"CLAHE {'ativado' if apply_clahe else 'desativado'}.\")\n",
    "    elif key == ord('r'):  # Reset dos sliders e força reprocessar\n",
    "        cv2.setTrackbarPos(\"Contraste\", windowTitle, 100)\n",
    "        cv2.setTrackbarPos(\"Brilho\", windowTitle, 0)\n",
    "        prev_contrast = 100\n",
    "        prev_brightness = 0\n",
    "        force_update = True\n",
    "        print(\"🔄 Brilho e contraste resetados para os valores padrão.\")\n",
    "\n",
    "cv2.destroyAllWindows()\n",
    "\n",
    "# === Salvar ===\n",
    "Tk().withdraw()\n",
    "save_path = filedialog.asksaveasfilename(\n",
    "    defaultextension=\".jpg\",\n",
    "    filetypes=[(\"JPEG\", \"*.jpg\"), (\"PNG\", \"*.png\"), (\"BMP\", \"*.bmp\"), (\"TIFF\", \"*.tiff\")],\n",
    "    title=\"Salvar imagem editada como...\"\n",
    ")\n",
    "\n",
    "if save_path:\n",
    "    cv2.imwrite(save_path, copyimg)\n",
    "    print(f\"✅ Imagem salva em: {save_path}\")\n",
    "else:\n",
    "    print(\"❌ Imagem não salva.\")\n"
   ],
   "id": "2f25e70eccbc1efd",
   "outputs": [
    {
     "name": "stderr",
     "output_type": "stream",
     "text": [
      "Aplicando ajustes: 100%|██████████| 1/1 [00:00<00:00, 86.79passo/s]\n",
      "Aplicando ajustes: 100%|██████████| 1/1 [00:00<00:00, 104.78passo/s]\n",
      "Aplicando ajustes: 100%|██████████| 1/1 [00:00<00:00, 110.40passo/s]\n",
      "Aplicando ajustes: 100%|██████████| 1/1 [00:00<00:00, 103.85passo/s]\n",
      "Aplicando ajustes: 100%|██████████| 1/1 [00:00<00:00, 104.66passo/s]\n",
      "Aplicando ajustes: 100%|██████████| 1/1 [00:00<00:00, 117.06passo/s]\n",
      "Aplicando ajustes: 100%|██████████| 1/1 [00:00<00:00, 104.72passo/s]\n",
      "Aplicando ajustes: 100%|██████████| 1/1 [00:00<00:00, 109.95passo/s]\n",
      "Aplicando ajustes: 100%|██████████| 1/1 [00:00<00:00, 116.47passo/s]\n",
      "Aplicando ajustes: 100%|██████████| 1/1 [00:00<00:00, 103.94passo/s]\n",
      "Aplicando ajustes: 100%|██████████| 1/1 [00:00<00:00, 117.04passo/s]\n",
      "Aplicando ajustes: 100%|██████████| 1/1 [00:00<00:00, 117.62passo/s]\n",
      "Aplicando ajustes: 100%|██████████| 1/1 [00:00<00:00, 104.98passo/s]\n",
      "Aplicando ajustes: 100%|██████████| 1/1 [00:00<00:00, 116.33passo/s]\n",
      "Aplicando ajustes: 100%|██████████| 1/1 [00:00<00:00, 105.18passo/s]\n",
      "Aplicando ajustes: 100%|██████████| 1/1 [00:00<00:00, 117.46passo/s]\n",
      "Aplicando ajustes: 100%|██████████| 1/1 [00:00<00:00, 117.57passo/s]\n",
      "Aplicando ajustes: 100%|██████████| 1/1 [00:00<00:00, 104.72passo/s]\n",
      "Aplicando ajustes: 100%|██████████| 1/1 [00:00<00:00, 105.10passo/s]\n",
      "Aplicando ajustes: 100%|██████████| 1/1 [00:00<00:00, 117.36passo/s]\n",
      "Aplicando ajustes: 100%|██████████| 1/1 [00:00<00:00, 105.13passo/s]\n",
      "Aplicando ajustes: 100%|██████████| 1/1 [00:00<00:00, 110.68passo/s]\n",
      "Aplicando ajustes: 100%|██████████| 1/1 [00:00<00:00, 104.60passo/s]\n",
      "Aplicando ajustes: 100%|██████████| 1/1 [00:00<00:00, 94.81passo/s]\n",
      "Aplicando ajustes: 100%|██████████| 1/1 [00:00<00:00, 105.10passo/s]\n",
      "Aplicando ajustes: 100%|██████████| 1/1 [00:00<00:00, 105.10passo/s]\n",
      "Aplicando ajustes: 100%|██████████| 1/1 [00:00<00:00, 104.10passo/s]\n",
      "Aplicando ajustes: 100%|██████████| 1/1 [00:00<00:00, 99.06passo/s]\n",
      "Aplicando ajustes: 100%|██████████| 1/1 [00:00<00:00, 104.57passo/s]\n",
      "Aplicando ajustes: 100%|██████████| 1/1 [00:00<00:00, 94.84passo/s]\n",
      "Aplicando ajustes: 100%|██████████| 1/1 [00:00<00:00, 116.70passo/s]\n",
      "Aplicando ajustes: 100%|██████████| 1/1 [00:00<00:00, 104.89passo/s]\n",
      "Aplicando ajustes: 100%|██████████| 1/1 [00:00<00:00, 110.76passo/s]\n",
      "Aplicando ajustes: 100%|██████████| 1/1 [00:00<00:00, 116.89passo/s]\n",
      "Aplicando ajustes: 100%|██████████| 1/1 [00:00<00:00, 86.72passo/s]\n",
      "Aplicando ajustes: 100%|██████████| 1/1 [00:00<00:00, 105.10passo/s]\n",
      "Aplicando ajustes: 100%|██████████| 1/1 [00:00<00:00, 115.01passo/s]\n",
      "Aplicando ajustes: 100%|██████████| 1/1 [00:00<00:00, 105.50passo/s]\n",
      "Aplicando ajustes: 100%|██████████| 1/1 [00:00<00:00, 105.12passo/s]\n",
      "Aplicando ajustes: 100%|██████████| 1/1 [00:00<00:00, 109.52passo/s]\n",
      "Aplicando ajustes: 100%|██████████| 1/1 [00:00<00:00, 94.51passo/s]\n",
      "Aplicando ajustes: 100%|██████████| 1/1 [00:00<00:00, 110.07passo/s]\n",
      "Aplicando ajustes: 100%|██████████| 1/1 [00:00<00:00, 94.84passo/s]\n",
      "Aplicando ajustes: 100%|██████████| 1/1 [00:00<00:00, 94.49passo/s]\n",
      "Aplicando ajustes: 100%|██████████| 1/1 [00:00<00:00, 86.45passo/s]\n",
      "Aplicando ajustes: 100%|██████████| 1/1 [00:00<00:00, 110.16passo/s]\n",
      "Aplicando ajustes: 100%|██████████| 1/1 [00:00<00:00, 93.91passo/s]\n",
      "Aplicando ajustes: 100%|██████████| 1/1 [00:00<00:00, 97.57passo/s]\n",
      "Aplicando ajustes: 100%|██████████| 1/1 [00:00<00:00, 111.02passo/s]\n",
      "Aplicando ajustes: 100%|██████████| 1/1 [00:00<00:00, 76.54passo/s]\n",
      "Aplicando ajustes: 100%|██████████| 1/1 [00:00<00:00, 90.60passo/s]\n",
      "Aplicando ajustes: 100%|██████████| 1/1 [00:00<00:00, 86.25passo/s]\n",
      "Aplicando ajustes: 100%|██████████| 1/1 [00:00<00:00, 95.09passo/s]\n",
      "Aplicando ajustes: 100%|██████████| 1/1 [00:00<00:00, 95.12passo/s]\n",
      "Aplicando ajustes: 100%|██████████| 1/1 [00:00<00:00, 94.98passo/s]\n",
      "Aplicando ajustes: 100%|██████████| 1/1 [00:00<00:00, 68.82passo/s]\n",
      "Aplicando ajustes: 100%|██████████| 1/1 [00:00<00:00, 105.07passo/s]\n",
      "Aplicando ajustes: 100%|██████████| 1/1 [00:00<00:00, 85.30passo/s]\n",
      "Aplicando ajustes: 100%|██████████| 1/1 [00:00<00:00, 95.04passo/s]\n",
      "Aplicando ajustes: 100%|██████████| 1/1 [00:00<00:00, 99.72passo/s]\n",
      "Aplicando ajustes: 100%|██████████| 1/1 [00:00<00:00, 94.73passo/s]\n",
      "Aplicando ajustes: 100%|██████████| 1/1 [00:00<00:00, 95.09passo/s]\n",
      "Aplicando ajustes: 100%|██████████| 1/1 [00:00<00:00, 97.31passo/s]\n",
      "Aplicando ajustes: 100%|██████████| 1/1 [00:00<00:00, 86.73passo/s]\n",
      "Aplicando ajustes: 100%|██████████| 1/1 [00:00<00:00, 95.09passo/s]\n",
      "Aplicando ajustes: 100%|██████████| 1/1 [00:00<00:00, 95.08passo/s]\n",
      "Aplicando ajustes: 100%|██████████| 1/1 [00:00<00:00, 60.48passo/s]\n",
      "Aplicando ajustes: 100%|██████████| 1/1 [00:00<00:00, 92.67passo/s]\n",
      "Aplicando ajustes: 100%|██████████| 1/1 [00:00<00:00, 95.00passo/s]\n",
      "Aplicando ajustes: 100%|██████████| 1/1 [00:00<00:00, 95.76passo/s]\n",
      "Aplicando ajustes: 100%|██████████| 1/1 [00:00<00:00, 105.61passo/s]\n",
      "Aplicando ajustes: 100%|██████████| 1/1 [00:00<00:00, 104.14passo/s]\n",
      "Aplicando ajustes: 100%|██████████| 1/1 [00:00<00:00, 110.64passo/s]\n",
      "Aplicando ajustes: 100%|██████████| 1/1 [00:00<00:00, 99.54passo/s]\n",
      "Aplicando ajustes: 100%|██████████| 1/1 [00:00<00:00, 108.68passo/s]\n",
      "Aplicando ajustes: 100%|██████████| 1/1 [00:00<00:00, 104.81passo/s]\n",
      "Aplicando ajustes: 100%|██████████| 1/1 [00:00<00:00, 97.39passo/s]\n",
      "Aplicando ajustes: 100%|██████████| 1/1 [00:00<00:00, 116.97passo/s]\n",
      "Aplicando ajustes: 100%|██████████| 1/1 [00:00<00:00, 106.57passo/s]\n",
      "Aplicando ajustes: 100%|██████████| 1/1 [00:00<00:00, 104.63passo/s]\n"
     ]
    },
    {
     "name": "stdout",
     "output_type": "stream",
     "text": [
      "CLAHE desativado.\n"
     ]
    },
    {
     "name": "stderr",
     "output_type": "stream",
     "text": [
      "Aplicando ajustes: 100%|██████████| 1/1 [00:00<00:00, 141.89passo/s]\n"
     ]
    },
    {
     "name": "stdout",
     "output_type": "stream",
     "text": [
      "CLAHE ativado.\n"
     ]
    },
    {
     "name": "stderr",
     "output_type": "stream",
     "text": [
      "Aplicando ajustes: 100%|██████████| 1/1 [00:00<00:00, 104.72passo/s]\n"
     ]
    },
    {
     "name": "stdout",
     "output_type": "stream",
     "text": [
      "CLAHE desativado.\n"
     ]
    },
    {
     "name": "stderr",
     "output_type": "stream",
     "text": [
      "Aplicando ajustes: 100%|██████████| 1/1 [00:00<00:00, 166.64passo/s]\n"
     ]
    },
    {
     "name": "stdout",
     "output_type": "stream",
     "text": [
      "CLAHE ativado.\n"
     ]
    },
    {
     "name": "stderr",
     "output_type": "stream",
     "text": [
      "Aplicando ajustes: 100%|██████████| 1/1 [00:00<00:00, 117.69passo/s]\n"
     ]
    },
    {
     "name": "stdout",
     "output_type": "stream",
     "text": [
      "CLAHE desativado.\n"
     ]
    },
    {
     "name": "stderr",
     "output_type": "stream",
     "text": [
      "Aplicando ajustes: 100%|██████████| 1/1 [00:00<00:00, 165.71passo/s]\n",
      "Aplicando ajustes: 100%|██████████| 1/1 [00:00<00:00, 163.90passo/s]\n",
      "Aplicando ajustes: 100%|██████████| 1/1 [00:00<00:00, 150.39passo/s]\n",
      "Aplicando ajustes: 100%|██████████| 1/1 [00:00<00:00, 153.63passo/s]\n",
      "Aplicando ajustes: 100%|██████████| 1/1 [00:00<00:00, 151.95passo/s]\n",
      "Aplicando ajustes: 100%|██████████| 1/1 [00:00<00:00, 166.62passo/s]\n",
      "Aplicando ajustes: 100%|██████████| 1/1 [00:00<00:00, 142.04passo/s]\n",
      "Aplicando ajustes: 100%|██████████| 1/1 [00:00<00:00, 165.51passo/s]\n",
      "Aplicando ajustes: 100%|██████████| 1/1 [00:00<00:00, 179.11passo/s]\n",
      "Aplicando ajustes: 100%|██████████| 1/1 [00:00<00:00, 153.22passo/s]\n",
      "Aplicando ajustes: 100%|██████████| 1/1 [00:00<00:00, 152.14passo/s]\n",
      "Aplicando ajustes: 100%|██████████| 1/1 [00:00<00:00, 154.50passo/s]\n"
     ]
    },
    {
     "name": "stdout",
     "output_type": "stream",
     "text": [
      "CLAHE ativado.\n"
     ]
    },
    {
     "name": "stderr",
     "output_type": "stream",
     "text": [
      "Aplicando ajustes: 100%|██████████| 1/1 [00:00<00:00, 105.13passo/s]\n",
      "Aplicando ajustes: 100%|██████████| 1/1 [00:00<00:00, 95.11passo/s]\n",
      "Aplicando ajustes: 100%|██████████| 1/1 [00:00<00:00, 104.36passo/s]\n"
     ]
    },
    {
     "name": "stdout",
     "output_type": "stream",
     "text": [
      "CLAHE desativado.\n"
     ]
    },
    {
     "name": "stderr",
     "output_type": "stream",
     "text": [
      "Aplicando ajustes: 100%|██████████| 1/1 [00:00<00:00, 124.85passo/s]\n"
     ]
    },
    {
     "name": "stdout",
     "output_type": "stream",
     "text": [
      "CLAHE ativado.\n"
     ]
    },
    {
     "name": "stderr",
     "output_type": "stream",
     "text": [
      "Aplicando ajustes: 100%|██████████| 1/1 [00:00<00:00, 104.44passo/s]\n"
     ]
    },
    {
     "name": "stdout",
     "output_type": "stream",
     "text": [
      "CLAHE desativado.\n"
     ]
    },
    {
     "name": "stderr",
     "output_type": "stream",
     "text": [
      "Aplicando ajustes: 100%|██████████| 1/1 [00:00<00:00, 153.33passo/s]\n"
     ]
    },
    {
     "name": "stdout",
     "output_type": "stream",
     "text": [
      "CLAHE ativado.\n"
     ]
    },
    {
     "name": "stderr",
     "output_type": "stream",
     "text": [
      "Aplicando ajustes: 100%|██████████| 1/1 [00:00<00:00, 107.33passo/s]\n"
     ]
    },
    {
     "name": "stdout",
     "output_type": "stream",
     "text": [
      "🔄 Brilho e contraste resetados para os valores padrão.\n"
     ]
    },
    {
     "name": "stderr",
     "output_type": "stream",
     "text": [
      "Aplicando ajustes: 100%|██████████| 1/1 [00:00<00:00, 117.61passo/s]\n"
     ]
    },
    {
     "name": "stdout",
     "output_type": "stream",
     "text": [
      "✅ Imagem salva em: C:/Users/Victor Macedo/Desktop/aaaa.jpg\n"
     ]
    }
   ],
   "execution_count": 5
  }
 ],
 "metadata": {
  "kernelspec": {
   "display_name": "Python 3",
   "language": "python",
   "name": "python3"
  },
  "language_info": {
   "codemirror_mode": {
    "name": "ipython",
    "version": 2
   },
   "file_extension": ".py",
   "mimetype": "text/x-python",
   "name": "python",
   "nbconvert_exporter": "python",
   "pygments_lexer": "ipython2",
   "version": "2.7.6"
  }
 },
 "nbformat": 4,
 "nbformat_minor": 5
}
