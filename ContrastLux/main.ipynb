{
 "cells": [
  {
   "metadata": {
    "ExecuteTime": {
     "end_time": "2025-09-18T11:43:39.008269Z",
     "start_time": "2025-09-18T11:43:38.175392Z"
    }
   },
   "cell_type": "code",
   "source": [
    "import numpy as np\n",
    "import cv2\n",
    "from tqdm import tqdm\n",
    "from tkinter import Tk, filedialog"
   ],
   "id": "d10fa962a1051f4f",
   "outputs": [],
   "execution_count": 1
  },
  {
   "metadata": {
    "ExecuteTime": {
     "end_time": "2025-09-18T11:56:54.814754Z",
     "start_time": "2025-09-18T11:56:37.029038Z"
    }
   },
   "cell_type": "code",
   "source": [
    "import cv2\n",
    "import numpy as np\n",
    "from tkinter import Tk, filedialog\n",
    "from tqdm import tqdm\n",
    "\n",
    "ESCAPE_KEY_ASCII = 27\n",
    "\n",
    "def onChange(value):\n",
    "    pass\n",
    "\n",
    "def process_image(img_bgr, contrast_value, brightness_value, use_clahe):\n",
    "    img_float = img_bgr.astype(np.float32)\n",
    "    contraste = contrast_value / 100.0\n",
    "    ajustada = contraste * (img_float - 128) + 128 + brightness_value\n",
    "    ajustada = np.clip(ajustada, 0, 255).astype(np.uint8)\n",
    "\n",
    "    if not use_clahe:\n",
    "        return ajustada\n",
    "\n",
    "    lab = cv2.cvtColor(ajustada, cv2.COLOR_BGR2LAB)\n",
    "    l, a, b = cv2.split(lab)\n",
    "    clahe = cv2.createCLAHE(clipLimit=2.0, tileGridSize=(8, 8))\n",
    "    l_clahe = clahe.apply(l)\n",
    "    lab_clahe = cv2.merge((l_clahe, a, b))\n",
    "    return cv2.cvtColor(lab_clahe, cv2.COLOR_LAB2BGR)\n",
    "\n",
    "def resize_keep_aspect(img, scale):\n",
    "    \"\"\"Redimensiona mantendo a proporção\"\"\"\n",
    "    h, w = img.shape[:2]\n",
    "    new_w = int(w * scale)\n",
    "    new_h = int(h * scale)\n",
    "    return cv2.resize(img, (new_w, new_h), interpolation=cv2.INTER_LINEAR)\n",
    "\n",
    "def show_centered(windowTitle, img, copyimg, apply_clahe, zoom_scale):\n",
    "    \"\"\"\n",
    "    Mostra a imagem original e a processada, lado a lado,\n",
    "    centralizadas em uma janela com fundo cinza.\n",
    "    \"\"\"\n",
    "    # aplica zoom\n",
    "    img_zoom = resize_keep_aspect(img, zoom_scale)\n",
    "    copyimg_zoom = resize_keep_aspect(copyimg, zoom_scale)\n",
    "\n",
    "    combined = np.hstack((img_zoom, copyimg_zoom))\n",
    "\n",
    "    # Tamanho da tela\n",
    "    screen_res = 1920, 1080\n",
    "    try:\n",
    "        import tkinter as tk\n",
    "        root = tk.Tk()\n",
    "        screen_res = root.winfo_screenwidth(), root.winfo_screenheight()\n",
    "        root.destroy()\n",
    "    except:\n",
    "        pass\n",
    "\n",
    "    win_w, win_h = screen_res\n",
    "\n",
    "    # Fundo cinza (com altura extra p/ trackbars)\n",
    "    canvas_h = max(combined.shape[0], win_h - 100)\n",
    "    canvas_w = max(combined.shape[1], win_w)\n",
    "    canvas = np.full((canvas_h, canvas_w, 3), 200, dtype=np.uint8)  # fundo cinza\n",
    "\n",
    "    # Calcula posição central\n",
    "    y_off = (canvas_h - combined.shape[0]) // 2\n",
    "    x_off = (canvas_w - combined.shape[1]) // 2\n",
    "\n",
    "    # Cola a imagem no centro\n",
    "    canvas[y_off:y_off+combined.shape[0], x_off:x_off+combined.shape[1]] = combined\n",
    "\n",
    "    # === textos ===\n",
    "    font = cv2.FONT_HERSHEY_SIMPLEX\n",
    "    font_scale = 1.2\n",
    "    thickness = 2\n",
    "    color = (255, 255, 255)\n",
    "    shadow_color = (50, 50, 50)\n",
    "    y_pos = y_off + 40  # ajustado pela margem\n",
    "\n",
    "    cv2.putText(canvas, \"ANTES\", (x_off + 30, y_pos), font, font_scale, shadow_color, thickness + 2, cv2.LINE_AA)\n",
    "    cv2.putText(canvas, \"ANTES\", (x_off + 30, y_pos), font, font_scale, color, thickness, cv2.LINE_AA)\n",
    "    cv2.putText(canvas, \"DEPOIS\", (x_off + img_zoom.shape[1] + 30, y_pos), font, font_scale, shadow_color, thickness + 2, cv2.LINE_AA)\n",
    "    cv2.putText(canvas, \"DEPOIS\", (x_off + img_zoom.shape[1] + 30, y_pos), font, font_scale, color, thickness, cv2.LINE_AA)\n",
    "\n",
    "    # Status CLAHE + Zoom\n",
    "    clahe_status = f\"CLAHE: {'ON' if apply_clahe else 'OFF'} | Zoom: {int(zoom_scale*100)}%\"\n",
    "    text_size, _ = cv2.getTextSize(clahe_status, font, font_scale, thickness)\n",
    "    text_x = canvas.shape[1] - text_size[0] - 20\n",
    "    text_y = canvas.shape[0] - 20\n",
    "    cv2.putText(canvas, clahe_status, (text_x, text_y), font, font_scale, shadow_color, thickness + 2, cv2.LINE_AA)\n",
    "    cv2.putText(canvas, clahe_status, (text_x, text_y), font, font_scale, color, thickness, cv2.LINE_AA)\n",
    "\n",
    "    cv2.imshow(windowTitle, canvas)\n",
    "\n",
    "# === Selecionar a Imagem ===\n",
    "Tk().withdraw()\n",
    "file_path = filedialog.askopenfilename(\n",
    "    title=\"Selecione uma imagem\",\n",
    "    filetypes=[(\"Imagens\", \"*.jpg;*.jpeg;*.png;*.bmp;*.tiff\")]\n",
    ")\n",
    "\n",
    "if not file_path:\n",
    "    print(\"Nenhuma imagem selecionada. Encerrando...\")\n",
    "    exit()\n",
    "\n",
    "img = cv2.imread(file_path)\n",
    "if img is None:\n",
    "    print(\"Erro ao carregar a imagem. Encerrando...\")\n",
    "    exit()\n",
    "\n",
    "copyimg = img.copy()\n",
    "\n",
    "# === Criar janela principal ===\n",
    "windowTitle = \"Ajuste de Brilho e Contraste (Antes e Depois)\"\n",
    "cv2.namedWindow(windowTitle, cv2.WINDOW_NORMAL)\n",
    "\n",
    "# Trackbars\n",
    "cv2.createTrackbar(\"Contraste\", windowTitle, 100, 200, onChange)\n",
    "cv2.createTrackbar(\"Brilho\", windowTitle, 0, 200, onChange)\n",
    "\n",
    "prev_contrast = cv2.getTrackbarPos(\"Contraste\", windowTitle)\n",
    "prev_brightness = cv2.getTrackbarPos(\"Brilho\", windowTitle)\n",
    "apply_clahe = True\n",
    "force_update = True\n",
    "\n",
    "# zoom inicial\n",
    "zoom_scale = 1.2\n",
    "\n",
    "while True:\n",
    "    current_contrast = cv2.getTrackbarPos(\"Contraste\", windowTitle)\n",
    "    current_brightness = cv2.getTrackbarPos(\"Brilho\", windowTitle)\n",
    "\n",
    "    changed = (current_contrast != prev_contrast) or (current_brightness != prev_brightness)\n",
    "\n",
    "    if changed or force_update:\n",
    "        for _ in tqdm(range(1), desc=\"Aplicando ajustes\", unit=\"passo\"):\n",
    "            copyimg = process_image(img, current_contrast, current_brightness, apply_clahe)\n",
    "\n",
    "        prev_contrast = current_contrast\n",
    "        prev_brightness = current_brightness\n",
    "        force_update = False\n",
    "\n",
    "    show_centered(windowTitle, img, copyimg, apply_clahe, zoom_scale)\n",
    "\n",
    "    key = cv2.waitKey(1) & 0xFF\n",
    "    if key == ESCAPE_KEY_ASCII:\n",
    "        break\n",
    "    elif key == ord('c'):\n",
    "        apply_clahe = not apply_clahe\n",
    "        force_update = True\n",
    "        print(f\"CLAHE {'ativado' if apply_clahe else 'desativado'}.\")\n",
    "    elif key == ord('r'):\n",
    "        cv2.setTrackbarPos(\"Contraste\", windowTitle, 100)\n",
    "        cv2.setTrackbarPos(\"Brilho\", windowTitle, 0)\n",
    "        prev_contrast = 100\n",
    "        prev_brightness = 0\n",
    "        force_update = True\n",
    "        print(\"🔄 Brilho e contraste resetados para os valores padrão.\")\n",
    "    elif key == ord('+') or key == ord('='):  # zoom in\n",
    "        zoom_scale = min(3.0, zoom_scale + 0.1)  # até 300%\n",
    "        force_update = True\n",
    "        print(f\"🔍 Zoom: {int(zoom_scale*100)}%\")\n",
    "    elif key == ord('-') or key == ord('_'):  # zoom out\n",
    "        zoom_scale = max(0.5, zoom_scale - 0.1)  # mínimo 50%\n",
    "        force_update = True\n",
    "        print(f\"🔍 Zoom: {int(zoom_scale*100)}%\")\n",
    "\n",
    "cv2.destroyAllWindows()\n",
    "\n",
    "# === Salvar ===\n",
    "Tk().withdraw()\n",
    "save_path = filedialog.asksaveasfilename(\n",
    "    defaultextension=\".jpg\",\n",
    "    filetypes=[(\"JPEG\", \"*.jpg\"), (\"PNG\", \"*.png\"), (\"BMP\", \"*.bmp\"), (\"TIFF\", \"*.tiff\")],\n",
    "    title=\"Salvar imagem editada como...\"\n",
    ")\n",
    "\n",
    "if save_path:\n",
    "    cv2.imwrite(save_path, copyimg)\n",
    "    print(f\"✅ Imagem salva em: {save_path}\")\n",
    "else:\n",
    "    print(\"❌ Imagem não salva.\")\n"
   ],
   "id": "2f25e70eccbc1efd",
   "outputs": [
    {
     "name": "stderr",
     "output_type": "stream",
     "text": [
      "Aplicando ajustes: 100%|██████████| 1/1 [00:00<00:00, 17.19passo/s]\n",
      "Aplicando ajustes: 100%|██████████| 1/1 [00:00<00:00, 21.99passo/s]\n",
      "Aplicando ajustes: 100%|██████████| 1/1 [00:00<00:00, 21.94passo/s]\n",
      "Aplicando ajustes: 100%|██████████| 1/1 [00:00<00:00, 22.73passo/s]\n",
      "Aplicando ajustes: 100%|██████████| 1/1 [00:00<00:00, 22.67passo/s]\n",
      "Aplicando ajustes: 100%|██████████| 1/1 [00:00<00:00, 21.92passo/s]\n",
      "Aplicando ajustes: 100%|██████████| 1/1 [00:00<00:00, 22.41passo/s]\n",
      "Aplicando ajustes: 100%|██████████| 1/1 [00:00<00:00, 22.04passo/s]\n",
      "Aplicando ajustes: 100%|██████████| 1/1 [00:00<00:00, 20.53passo/s]\n",
      "Aplicando ajustes: 100%|██████████| 1/1 [00:00<00:00, 19.27passo/s]\n",
      "Aplicando ajustes: 100%|██████████| 1/1 [00:00<00:00, 20.16passo/s]\n",
      "Aplicando ajustes: 100%|██████████| 1/1 [00:00<00:00, 20.73passo/s]\n",
      "Aplicando ajustes: 100%|██████████| 1/1 [00:00<00:00, 21.35passo/s]\n",
      "Aplicando ajustes: 100%|██████████| 1/1 [00:00<00:00, 19.73passo/s]\n",
      "Aplicando ajustes: 100%|██████████| 1/1 [00:00<00:00, 19.32passo/s]\n",
      "Aplicando ajustes: 100%|██████████| 1/1 [00:00<00:00, 21.12passo/s]\n",
      "Aplicando ajustes: 100%|██████████| 1/1 [00:00<00:00, 19.58passo/s]\n",
      "Aplicando ajustes: 100%|██████████| 1/1 [00:00<00:00, 21.87passo/s]\n"
     ]
    },
    {
     "name": "stdout",
     "output_type": "stream",
     "text": [
      "🔍 Zoom: 109%\n"
     ]
    },
    {
     "name": "stderr",
     "output_type": "stream",
     "text": [
      "Aplicando ajustes: 100%|██████████| 1/1 [00:00<00:00, 21.63passo/s]\n"
     ]
    },
    {
     "name": "stdout",
     "output_type": "stream",
     "text": [
      "🔍 Zoom: 99%\n"
     ]
    },
    {
     "name": "stderr",
     "output_type": "stream",
     "text": [
      "Aplicando ajustes: 100%|██████████| 1/1 [00:00<00:00, 22.53passo/s]\n"
     ]
    },
    {
     "name": "stdout",
     "output_type": "stream",
     "text": [
      "🔍 Zoom: 89%\n"
     ]
    },
    {
     "name": "stderr",
     "output_type": "stream",
     "text": [
      "Aplicando ajustes: 100%|██████████| 1/1 [00:00<00:00, 21.79passo/s]\n"
     ]
    },
    {
     "name": "stdout",
     "output_type": "stream",
     "text": [
      "🔍 Zoom: 80%\n"
     ]
    },
    {
     "name": "stderr",
     "output_type": "stream",
     "text": [
      "Aplicando ajustes: 100%|██████████| 1/1 [00:00<00:00, 22.27passo/s]\n"
     ]
    },
    {
     "name": "stdout",
     "output_type": "stream",
     "text": [
      "🔍 Zoom: 70%\n"
     ]
    },
    {
     "name": "stderr",
     "output_type": "stream",
     "text": [
      "Aplicando ajustes: 100%|██████████| 1/1 [00:00<00:00, 22.95passo/s]\n"
     ]
    },
    {
     "name": "stdout",
     "output_type": "stream",
     "text": [
      "🔍 Zoom: 60%\n"
     ]
    },
    {
     "name": "stderr",
     "output_type": "stream",
     "text": [
      "Aplicando ajustes: 100%|██████████| 1/1 [00:00<00:00, 22.19passo/s]\n"
     ]
    },
    {
     "name": "stdout",
     "output_type": "stream",
     "text": [
      "CLAHE desativado.\n"
     ]
    },
    {
     "name": "stderr",
     "output_type": "stream",
     "text": [
      "Aplicando ajustes: 100%|██████████| 1/1 [00:00<00:00, 30.25passo/s]\n"
     ]
    },
    {
     "name": "stdout",
     "output_type": "stream",
     "text": [
      "CLAHE ativado.\n"
     ]
    },
    {
     "name": "stderr",
     "output_type": "stream",
     "text": [
      "Aplicando ajustes: 100%|██████████| 1/1 [00:00<00:00, 22.26passo/s]\n",
      "Aplicando ajustes: 100%|██████████| 1/1 [00:00<00:00, 22.10passo/s]\n",
      "Aplicando ajustes: 100%|██████████| 1/1 [00:00<00:00, 21.70passo/s]\n",
      "Aplicando ajustes: 100%|██████████| 1/1 [00:00<00:00, 20.71passo/s]\n",
      "Aplicando ajustes: 100%|██████████| 1/1 [00:00<00:00, 21.00passo/s]\n",
      "Aplicando ajustes: 100%|██████████| 1/1 [00:00<00:00, 21.66passo/s]\n"
     ]
    },
    {
     "name": "stdout",
     "output_type": "stream",
     "text": [
      "CLAHE desativado.\n"
     ]
    },
    {
     "name": "stderr",
     "output_type": "stream",
     "text": [
      "Aplicando ajustes: 100%|██████████| 1/1 [00:00<00:00, 30.06passo/s]\n"
     ]
    },
    {
     "name": "stdout",
     "output_type": "stream",
     "text": [
      "CLAHE ativado.\n"
     ]
    },
    {
     "name": "stderr",
     "output_type": "stream",
     "text": [
      "Aplicando ajustes: 100%|██████████| 1/1 [00:00<00:00, 22.65passo/s]\n"
     ]
    },
    {
     "ename": "error",
     "evalue": "OpenCV(4.12.0) D:\\a\\opencv-python\\opencv-python\\opencv\\modules\\highgui\\src\\window_w32.cpp:2570: error: (-27:Null pointer) NULL window: 'Ajuste de Brilho e Contraste (Antes e Depois)' in function 'cvGetTrackbarPos'\n",
     "output_type": "error",
     "traceback": [
      "\u001B[31m---------------------------------------------------------------------------\u001B[39m",
      "\u001B[31merror\u001B[39m                                     Traceback (most recent call last)",
      "\u001B[36mCell\u001B[39m\u001B[36m \u001B[39m\u001B[32mIn[9]\u001B[39m\u001B[32m, line 127\u001B[39m\n\u001B[32m    124\u001B[39m zoom_scale = \u001B[32m1.2\u001B[39m\n\u001B[32m    126\u001B[39m \u001B[38;5;28;01mwhile\u001B[39;00m \u001B[38;5;28;01mTrue\u001B[39;00m:\n\u001B[32m--> \u001B[39m\u001B[32m127\u001B[39m     current_contrast = \u001B[43mcv2\u001B[49m\u001B[43m.\u001B[49m\u001B[43mgetTrackbarPos\u001B[49m\u001B[43m(\u001B[49m\u001B[33;43m\"\u001B[39;49m\u001B[33;43mContraste\u001B[39;49m\u001B[33;43m\"\u001B[39;49m\u001B[43m,\u001B[49m\u001B[43m \u001B[49m\u001B[43mwindowTitle\u001B[49m\u001B[43m)\u001B[49m\n\u001B[32m    128\u001B[39m     current_brightness = cv2.getTrackbarPos(\u001B[33m\"\u001B[39m\u001B[33mBrilho\u001B[39m\u001B[33m\"\u001B[39m, windowTitle)\n\u001B[32m    130\u001B[39m     changed = (current_contrast != prev_contrast) \u001B[38;5;129;01mor\u001B[39;00m (current_brightness != prev_brightness)\n",
      "\u001B[31merror\u001B[39m: OpenCV(4.12.0) D:\\a\\opencv-python\\opencv-python\\opencv\\modules\\highgui\\src\\window_w32.cpp:2570: error: (-27:Null pointer) NULL window: 'Ajuste de Brilho e Contraste (Antes e Depois)' in function 'cvGetTrackbarPos'\n"
     ]
    }
   ],
   "execution_count": 9
  }
 ],
 "metadata": {
  "kernelspec": {
   "display_name": "Python 3",
   "language": "python",
   "name": "python3"
  },
  "language_info": {
   "codemirror_mode": {
    "name": "ipython",
    "version": 2
   },
   "file_extension": ".py",
   "mimetype": "text/x-python",
   "name": "python",
   "nbconvert_exporter": "python",
   "pygments_lexer": "ipython2",
   "version": "2.7.6"
  }
 },
 "nbformat": 4,
 "nbformat_minor": 5
}
